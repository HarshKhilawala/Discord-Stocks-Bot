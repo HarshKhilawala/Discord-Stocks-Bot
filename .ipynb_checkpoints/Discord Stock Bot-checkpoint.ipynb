{
 "cells": [
  {
   "cell_type": "code",
   "execution_count": 1,
   "id": "viral-lesson",
   "metadata": {},
   "outputs": [
    {
     "name": "stdout",
     "output_type": "stream",
     "text": [
      "Note: you may need to restart the kernel to use updated packages.\n"
     ]
    },
    {
     "name": "stderr",
     "output_type": "stream",
     "text": [
      "'C:\\Users\\Harsh' is not recognized as an internal or external command,\n",
      "operable program or batch file.\n"
     ]
    }
   ],
   "source": [
    "pip install yfinance yahoofinancials pandas numpy "
   ]
  },
  {
   "cell_type": "code",
   "execution_count": 2,
   "id": "extended-trainer",
   "metadata": {},
   "outputs": [
    {
     "name": "stdout",
     "output_type": "stream",
     "text": [
      "Requirement already satisfied: pandas in c:\\users\\harsh khilawala\\anaconda-3\\anaconda3\\lib\\site-packages (1.2.1)\n",
      "Requirement already satisfied: numpy in c:\\users\\harsh khilawala\\anaconda-3\\anaconda3\\lib\\site-packages (1.19.2)\n",
      "Requirement already satisfied: pytz>=2017.3 in c:\\users\\harsh khilawala\\anaconda-3\\anaconda3\\lib\\site-packages (from pandas) (2020.5)\n",
      "Requirement already satisfied: python-dateutil>=2.7.3 in c:\\users\\harsh khilawala\\anaconda-3\\anaconda3\\lib\\site-packages (from pandas) (2.8.1)\n",
      "Requirement already satisfied: six>=1.5 in c:\\users\\harsh khilawala\\anaconda-3\\anaconda3\\lib\\site-packages (from python-dateutil>=2.7.3->pandas) (1.15.0)\n",
      "Collecting yahoofinancials\n",
      "  Using cached yahoofinancials-1.6.tar.gz (27 kB)\n",
      "Requirement already satisfied: beautifulsoup4 in c:\\users\\harsh khilawala\\anaconda-3\\anaconda3\\lib\\site-packages (from yahoofinancials) (4.9.3)\n",
      "Collecting yfinance\n",
      "  Using cached yfinance-0.1.55.tar.gz (23 kB)\n",
      "Requirement already satisfied: requests>=2.20 in c:\\users\\harsh khilawala\\anaconda-3\\anaconda3\\lib\\site-packages (from yfinance) (2.25.1)\n",
      "Requirement already satisfied: lxml>=4.5.1 in c:\\users\\harsh khilawala\\anaconda-3\\anaconda3\\lib\\site-packages (from yfinance) (4.6.2)\n",
      "Collecting multitasking>=0.0.7\n",
      "  Using cached multitasking-0.0.9.tar.gz (8.1 kB)\n",
      "Requirement already satisfied: chardet<5,>=3.0.2 in c:\\users\\harsh khilawala\\anaconda-3\\anaconda3\\lib\\site-packages (from requests>=2.20->yfinance) (4.0.0)\n",
      "Requirement already satisfied: idna<3,>=2.5 in c:\\users\\harsh khilawala\\anaconda-3\\anaconda3\\lib\\site-packages (from requests>=2.20->yfinance) (2.10)\n",
      "Requirement already satisfied: urllib3<1.27,>=1.21.1 in c:\\users\\harsh khilawala\\anaconda-3\\anaconda3\\lib\\site-packages (from requests>=2.20->yfinance) (1.26.2)\n",
      "Requirement already satisfied: certifi>=2017.4.17 in c:\\users\\harsh khilawala\\anaconda-3\\anaconda3\\lib\\site-packages (from requests>=2.20->yfinance) (2020.12.5)\n",
      "Requirement already satisfied: soupsieve>1.2 in c:\\users\\harsh khilawala\\anaconda-3\\anaconda3\\lib\\site-packages (from beautifulsoup4->yahoofinancials) (2.1)\n",
      "Building wheels for collected packages: yahoofinancials, yfinance, multitasking\n",
      "  Building wheel for yahoofinancials (setup.py): started\n",
      "  Building wheel for yahoofinancials (setup.py): finished with status 'done'\n",
      "  Created wheel for yahoofinancials: filename=yahoofinancials-1.6-py3-none-any.whl size=15190 sha256=00a1bb0280399e20348e01afcee6544d05dd520f0ac3a7a852abf7f91cf0aac0\n",
      "  Stored in directory: c:\\users\\harsh khilawala\\appdata\\local\\pip\\cache\\wheels\\6a\\90\\0c\\08c7ac2ce60b9ac91529417d471e59244f9f96848c86f14809\n",
      "  Building wheel for yfinance (setup.py): started\n",
      "  Building wheel for yfinance (setup.py): finished with status 'done'\n",
      "  Created wheel for yfinance: filename=yfinance-0.1.55-py2.py3-none-any.whl size=22616 sha256=369c34ddd7425baa496c598d5af5d84acae3bccc3970589ddf55ae3a3bb96046\n",
      "  Stored in directory: c:\\users\\harsh khilawala\\appdata\\local\\pip\\cache\\wheels\\b4\\c3\\39\\9c01ae2b4726f37024bba5592bec868b47a2fab5a786e8979a\n",
      "  Building wheel for multitasking (setup.py): started\n",
      "  Building wheel for multitasking (setup.py): finished with status 'done'\n",
      "  Created wheel for multitasking: filename=multitasking-0.0.9-py3-none-any.whl size=8368 sha256=4866ba818e0faf1d4bc58cd3697f96b4a97184bea09aa6e6d17cb186943a6d4c\n",
      "  Stored in directory: c:\\users\\harsh khilawala\\appdata\\local\\pip\\cache\\wheels\\57\\6d\\a3\\a39b839cc75274d2acfb1c58bfead2f726c6577fe8c4723f13\n",
      "Successfully built yahoofinancials yfinance multitasking\n",
      "Installing collected packages: multitasking, yfinance, yahoofinancials\n",
      "Successfully installed multitasking-0.0.9 yahoofinancials-1.6 yfinance-0.1.55\n"
     ]
    }
   ],
   "source": [
    "!pip install yfinance yahoofinancials pandas numpy "
   ]
  },
  {
   "cell_type": "code",
   "execution_count": 3,
   "id": "hollywood-joining",
   "metadata": {},
   "outputs": [],
   "source": [
    "import pandas as pd\n",
    "import yfinance as yf\n",
    "from yahoofinancials import YahooFinancials"
   ]
  },
  {
   "cell_type": "code",
   "execution_count": 4,
   "id": "unique-chaos",
   "metadata": {},
   "outputs": [
    {
     "data": {
      "text/html": [
       "<div>\n",
       "<style scoped>\n",
       "    .dataframe tbody tr th:only-of-type {\n",
       "        vertical-align: middle;\n",
       "    }\n",
       "\n",
       "    .dataframe tbody tr th {\n",
       "        vertical-align: top;\n",
       "    }\n",
       "\n",
       "    .dataframe thead th {\n",
       "        text-align: right;\n",
       "    }\n",
       "</style>\n",
       "<table border=\"1\" class=\"dataframe\">\n",
       "  <thead>\n",
       "    <tr style=\"text-align: right;\">\n",
       "      <th></th>\n",
       "      <th>Open</th>\n",
       "      <th>High</th>\n",
       "      <th>Low</th>\n",
       "      <th>Close</th>\n",
       "      <th>Adj Close</th>\n",
       "      <th>Volume</th>\n",
       "    </tr>\n",
       "    <tr>\n",
       "      <th>Date</th>\n",
       "      <th></th>\n",
       "      <th></th>\n",
       "      <th></th>\n",
       "      <th></th>\n",
       "      <th></th>\n",
       "      <th></th>\n",
       "    </tr>\n",
       "  </thead>\n",
       "  <tbody>\n",
       "    <tr>\n",
       "      <th>2020-12-31</th>\n",
       "      <td>9.82</td>\n",
       "      <td>9.94</td>\n",
       "      <td>9.47</td>\n",
       "      <td>9.54</td>\n",
       "      <td>9.54</td>\n",
       "      <td>1417400</td>\n",
       "    </tr>\n",
       "    <tr>\n",
       "      <th>2021-01-04</th>\n",
       "      <td>9.54</td>\n",
       "      <td>9.83</td>\n",
       "      <td>9.23</td>\n",
       "      <td>9.72</td>\n",
       "      <td>9.72</td>\n",
       "      <td>953700</td>\n",
       "    </tr>\n",
       "    <tr>\n",
       "      <th>2021-01-05</th>\n",
       "      <td>9.63</td>\n",
       "      <td>9.94</td>\n",
       "      <td>9.45</td>\n",
       "      <td>9.79</td>\n",
       "      <td>9.79</td>\n",
       "      <td>1128100</td>\n",
       "    </tr>\n",
       "    <tr>\n",
       "      <th>2021-01-06</th>\n",
       "      <td>9.75</td>\n",
       "      <td>11.10</td>\n",
       "      <td>9.75</td>\n",
       "      <td>11.07</td>\n",
       "      <td>11.07</td>\n",
       "      <td>1389100</td>\n",
       "    </tr>\n",
       "    <tr>\n",
       "      <th>2021-01-07</th>\n",
       "      <td>10.93</td>\n",
       "      <td>11.62</td>\n",
       "      <td>10.85</td>\n",
       "      <td>11.35</td>\n",
       "      <td>11.35</td>\n",
       "      <td>1030700</td>\n",
       "    </tr>\n",
       "  </tbody>\n",
       "</table>\n",
       "</div>"
      ],
      "text/plain": [
       "             Open   High    Low  Close  Adj Close   Volume\n",
       "Date                                                      \n",
       "2020-12-31   9.82   9.94   9.47   9.54       9.54  1417400\n",
       "2021-01-04   9.54   9.83   9.23   9.72       9.72   953700\n",
       "2021-01-05   9.63   9.94   9.45   9.79       9.79  1128100\n",
       "2021-01-06   9.75  11.10   9.75  11.07      11.07  1389100\n",
       "2021-01-07  10.93  11.62  10.85  11.35      11.35  1030700"
      ]
     },
     "execution_count": 4,
     "metadata": {},
     "output_type": "execute_result"
    }
   ],
   "source": [
    "tcs_df = yf.download('TCS',start='2021-01-01',end='2021-01-31',progress=False)\n",
    "tcs_df.head()"
   ]
  },
  {
   "cell_type": "code",
   "execution_count": 41,
   "id": "legendary-magnet",
   "metadata": {},
   "outputs": [
    {
     "data": {
      "text/plain": [
       "<AxesSubplot:title={'center':\"TCS's Stock Price\"}, xlabel='Datetime'>"
      ]
     },
     "execution_count": 41,
     "metadata": {},
     "output_type": "execute_result"
    },
    {
     "data": {
      "image/png": "[encoded data removed]",
      "text/plain": [
       "<Figure size 432x288 with 1 Axes>"
      ]
     },
     "metadata": {
      "needs_background": "light"
     },
     "output_type": "display_data"
    }
   ],
   "source": [
    "ticker = yf.Ticker('TCS')\n",
    "tcs_df = ticker.history(period=\"1d\",interval='1m')\n",
    "tcs_df['Close'].plot(title=\"TCS's Stock Price\")"
   ]
  },
  {
   "cell_type": "code",
   "execution_count": 21,
   "id": "artistic-appendix",
   "metadata": {},
   "outputs": [
    {
     "name": "stdout",
     "output_type": "stream",
     "text": [
      "[*********************100%***********************]  1 of 1 completed\n",
      "                  Open   High         Low      Close  Adj Close    Volume\n",
      "Date                                                                     \n",
      "2021-02-24  711.849976  745.0  694.169983  742.02002  742.02002  36677100\n",
      "2021-02-24  711.849976  745.0  694.169983  742.02002  742.02002  36766950\n"
     ]
    }
   ],
   "source": [
    "data = yf.download(  # or pdr.get_data_yahoo(...\n",
    "        # tickers list or string as well\n",
    "        tickers = \"TSLA\",\n",
    "\n",
    "        # use \"period\" instead of start/end\n",
    "        # valid periods: 1d,5d,1mo,3mo,6mo,1y,2y,5y,10y,ytd,max\n",
    "        # (optional, default is '1mo')\n",
    "        period = \"1d\",\n",
    "    )\n",
    "\n",
    "print(data.head())"
   ]
  },
  {
   "cell_type": "code",
   "execution_count": 14,
   "id": "aggregate-friend",
   "metadata": {},
   "outputs": [
    {
     "name": "stdout",
     "output_type": "stream",
     "text": [
      "Collecting plotly\n",
      "  Using cached plotly-4.14.3-py2.py3-none-any.whl (13.2 MB)\n",
      "Requirement already satisfied: six in c:\\users\\harsh khilawala\\anaconda-3\\anaconda3\\lib\\site-packages (from plotly) (1.15.0)\n",
      "Collecting retrying>=1.3.3\n",
      "  Using cached retrying-1.3.3.tar.gz (10 kB)\n",
      "Building wheels for collected packages: retrying\n",
      "  Building wheel for retrying (setup.py): started\n",
      "  Building wheel for retrying (setup.py): finished with status 'done'\n",
      "  Created wheel for retrying: filename=retrying-1.3.3-py3-none-any.whl size=11429 sha256=75b867e2c703b33b18bb680ac4a7b7f3b266b45b8705c8cd17b1410150c89c26\n",
      "  Stored in directory: c:\\users\\harsh khilawala\\appdata\\local\\pip\\cache\\wheels\\c4\\a7\\48\\0a434133f6d56e878ca511c0e6c38326907c0792f67b476e56\n",
      "Successfully built retrying\n",
      "Installing collected packages: retrying, plotly\n",
      "Successfully installed plotly-4.14.3 retrying-1.3.3\n"
     ]
    }
   ],
   "source": [
    "!pip install plotly"
   ]
  },
  {
   "cell_type": "code",
   "execution_count": 15,
   "id": "promising-calibration",
   "metadata": {},
   "outputs": [],
   "source": [
    "import plotly.express as px"
   ]
  },
  {
   "cell_type": "code",
   "execution_count": 42,
   "id": "careful-arrest",
   "metadata": {},
   "outputs": [
    {
     "data": {
      "application/vnd.plotly.v1+json": {
       "config": {
        "plotlyServerURL": "https://plot.ly"
       },
       "data": [
        {
         "hovertemplate": "Datetime=%{x}<br>Close=%{y}<extra></extra>",
         "legendgroup": "",
         "line": {
          "color": "#636efa",
          "dash": "solid"
         },
         "mode": "lines",
         "name": "",
         "orientation": "v",
         "showlegend": false,
         "type": "scatter",
         "x": [
          "2021-02-24T09:30:00-05:00",
          "2021-02-24T09:32:00-05:00",
          "2021-02-24T09:33:00-05:00",
          "2021-02-24T09:34:00-05:00",
          "2021-02-24T09:35:00-05:00",
          "2021-02-24T09:36:00-05:00",
          "2021-02-24T09:37:00-05:00",
          "2021-02-24T09:38:00-05:00",
          "2021-02-24T09:39:00-05:00",
          "2021-02-24T09:40:00-05:00",
          "2021-02-24T09:41:00-05:00",
          "2021-02-24T09:42:00-05:00",
          "2021-02-24T09:43:00-05:00",
          "2021-02-24T09:44:00-05:00",
          "2021-02-24T09:45:00-05:00",
          "2021-02-24T09:46:00-05:00",
          "2021-02-24T09:47:00-05:00",
          "2021-02-24T09:48:00-05:00",
          "2021-02-24T09:49:00-05:00",
          "2021-02-24T09:50:00-05:00",
          "2021-02-24T09:51:00-05:00",
          "2021-02-24T09:52:00-05:00",
          "2021-02-24T09:53:00-05:00",
          "2021-02-24T09:54:00-05:00",
          "2021-02-24T09:55:00-05:00",
          "2021-02-24T09:56:00-05:00",
          "2021-02-24T09:57:00-05:00",
          "2021-02-24T09:58:00-05:00",
          "2021-02-24T09:59:00-05:00",
          "2021-02-24T10:00:00-05:00",
          "2021-02-24T10:01:00-05:00",
          "2021-02-24T10:02:00-05:00",
          "2021-02-24T10:03:00-05:00",
          "2021-02-24T10:04:00-05:00",
          "2021-02-24T10:05:00-05:00",
          "2021-02-24T10:06:00-05:00",
          "2021-02-24T10:07:00-05:00",
          "2021-02-24T10:08:00-05:00",
          "2021-02-24T10:09:00-05:00",
          "2021-02-24T10:10:00-05:00",
          "2021-02-24T10:11:00-05:00",
          "2021-02-24T10:12:00-05:00",
          "2021-02-24T10:13:00-05:00",
          "2021-02-24T10:14:00-05:00",
          "2021-02-24T10:15:00-05:00",
          "2021-02-24T10:16:00-05:00",
          "2021-02-24T10:17:00-05:00",
          "2021-02-24T10:18:00-05:00",
          "2021-02-24T10:19:00-05:00",
          "2021-02-24T10:20:00-05:00",
          "2021-02-24T10:21:00-05:00",
          "2021-02-24T10:22:00-05:00",
          "2021-02-24T10:23:00-05:00",
          "2021-02-24T10:24:00-05:00",
          "2021-02-24T10:25:00-05:00",
          "2021-02-24T10:26:00-05:00",
          "2021-02-24T10:27:00-05:00",
          "2021-02-24T10:28:00-05:00",
          "2021-02-24T10:29:00-05:00",
          "2021-02-24T10:30:00-05:00",
          "2021-02-24T10:31:00-05:00",
          "2021-02-24T10:32:00-05:00",
          "2021-02-24T10:33:00-05:00",
          "2021-02-24T10:34:00-05:00",
          "2021-02-24T10:35:00-05:00",
          "2021-02-24T10:36:00-05:00",
          "2021-02-24T10:37:00-05:00",
          "2021-02-24T10:38:00-05:00",
          "2021-02-24T10:39:00-05:00",
          "2021-02-24T10:40:00-05:00",
          "2021-02-24T10:41:00-05:00",
          "2021-02-24T10:42:00-05:00",
          "2021-02-24T10:43:00-05:00",
          "2021-02-24T10:44:00-05:00",
          "2021-02-24T10:45:00-05:00",
          "2021-02-24T10:46:00-05:00",
          "2021-02-24T10:47:00-05:00",
          "2021-02-24T10:48:00-05:00",
          "2021-02-24T10:49:00-05:00",
          "2021-02-24T10:50:00-05:00",
          "2021-02-24T10:51:00-05:00",
          "2021-02-24T10:52:00-05:00",
          "2021-02-24T10:53:00-05:00",
          "2021-02-24T10:54:00-05:00",
          "2021-02-24T10:55:00-05:00",
          "2021-02-24T10:56:00-05:00",
          "2021-02-24T10:57:00-05:00",
          "2021-02-24T10:58:00-05:00",
          "2021-02-24T10:59:00-05:00",
          "2021-02-24T11:00:00-05:00",
          "2021-02-24T11:01:00-05:00",
          "2021-02-24T11:02:00-05:00",
          "2021-02-24T11:03:00-05:00",
          "2021-02-24T11:04:00-05:00",
          "2021-02-24T11:05:00-05:00",
          "2021-02-24T11:06:00-05:00",
          "2021-02-24T11:08:00-05:00",
          "2021-02-24T11:09:00-05:00",
          "2021-02-24T11:10:00-05:00",
          "2021-02-24T11:12:00-05:00",
          "2021-02-24T11:14:00-05:00",
          "2021-02-24T11:15:00-05:00",
          "2021-02-24T11:17:00-05:00",
          "2021-02-24T11:18:00-05:00",
          "2021-02-24T11:19:00-05:00",
          "2021-02-24T11:20:00-05:00",
          "2021-02-24T11:22:00-05:00",
          "2021-02-24T11:23:00-05:00",
          "2021-02-24T11:24:00-05:00",
          "2021-02-24T11:25:00-05:00",
          "2021-02-24T11:26:00-05:00",
          "2021-02-24T11:27:00-05:00",
          "2021-02-24T11:28:00-05:00",
          "2021-02-24T11:29:00-05:00",
          "2021-02-24T11:30:00-05:00",
          "2021-02-24T11:31:00-05:00",
          "2021-02-24T11:32:00-05:00",
          "2021-02-24T11:34:00-05:00",
          "2021-02-24T11:35:00-05:00",
          "2021-02-24T11:36:00-05:00",
          "2021-02-24T11:37:00-05:00",
          "2021-02-24T11:38:00-05:00",
          "2021-02-24T11:39:00-05:00",
          "2021-02-24T11:40:00-05:00",
          "2021-02-24T11:42:00-05:00",
          "2021-02-24T11:43:00-05:00",
          "2021-02-24T11:44:00-05:00",
          "2021-02-24T11:45:00-05:00",
          "2021-02-24T11:46:00-05:00",
          "2021-02-24T11:49:00-05:00",
          "2021-02-24T11:50:00-05:00",
          "2021-02-24T11:51:00-05:00",
          "2021-02-24T11:52:00-05:00",
          "2021-02-24T11:53:00-05:00",
          "2021-02-24T11:54:00-05:00",
          "2021-02-24T11:55:00-05:00",
          "2021-02-24T11:56:00-05:00",
          "2021-02-24T11:57:00-05:00",
          "2021-02-24T11:58:00-05:00",
          "2021-02-24T11:59:00-05:00",
          "2021-02-24T12:00:00-05:00",
          "2021-02-24T12:01:00-05:00",
          "2021-02-24T12:03:00-05:00",
          "2021-02-24T12:05:00-05:00",
          "2021-02-24T12:06:00-05:00",
          "2021-02-24T12:07:00-05:00",
          "2021-02-24T12:08:00-05:00",
          "2021-02-24T12:09:00-05:00",
          "2021-02-24T12:11:00-05:00",
          "2021-02-24T12:12:00-05:00",
          "2021-02-24T12:13:00-05:00",
          "2021-02-24T12:14:00-05:00",
          "2021-02-24T12:15:00-05:00",
          "2021-02-24T12:16:00-05:00",
          "2021-02-24T12:17:00-05:00",
          "2021-02-24T12:18:00-05:00",
          "2021-02-24T12:20:00-05:00",
          "2021-02-24T12:21:00-05:00",
          "2021-02-24T12:23:00-05:00",
          "2021-02-24T12:24:00-05:00",
          "2021-02-24T12:25:00-05:00",
          "2021-02-24T12:27:00-05:00",
          "2021-02-24T12:28:00-05:00",
          "2021-02-24T12:29:00-05:00",
          "2021-02-24T12:30:00-05:00",
          "2021-02-24T12:31:00-05:00",
          "2021-02-24T12:32:00-05:00",
          "2021-02-24T12:33:00-05:00",
          "2021-02-24T12:34:00-05:00",
          "2021-02-24T12:35:00-05:00",
          "2021-02-24T12:36:00-05:00",
          "2021-02-24T12:37:00-05:00",
          "2021-02-24T12:38:00-05:00",
          "2021-02-24T12:39:00-05:00",
          "2021-02-24T12:40:00-05:00",
          "2021-02-24T12:41:00-05:00",
          "2021-02-24T12:42:00-05:00",
          "2021-02-24T12:43:00-05:00",
          "2021-02-24T12:44:00-05:00",
          "2021-02-24T12:45:00-05:00",
          "2021-02-24T12:46:00-05:00",
          "2021-02-24T12:47:00-05:00",
          "2021-02-24T12:48:00-05:00",
          "2021-02-24T12:49:00-05:00",
          "2021-02-24T12:50:00-05:00",
          "2021-02-24T12:51:00-05:00",
          "2021-02-24T12:52:00-05:00",
          "2021-02-24T12:53:00-05:00",
          "2021-02-24T12:54:00-05:00",
          "2021-02-24T12:55:00-05:00",
          "2021-02-24T12:56:00-05:00",
          "2021-02-24T12:57:00-05:00",
          "2021-02-24T12:58:00-05:00",
          "2021-02-24T12:59:00-05:00",
          "2021-02-24T13:00:00-05:00",
          "2021-02-24T13:01:00-05:00",
          "2021-02-24T13:02:00-05:00",
          "2021-02-24T13:03:00-05:00",
          "2021-02-24T13:04:00-05:00",
          "2021-02-24T13:05:00-05:00",
          "2021-02-24T13:06:00-05:00",
          "2021-02-24T13:07:00-05:00",
          "2021-02-24T13:08:00-05:00",
          "2021-02-24T13:09:00-05:00",
          "2021-02-24T13:10:00-05:00",
          "2021-02-24T13:12:00-05:00",
          "2021-02-24T13:13:00-05:00",
          "2021-02-24T13:14:00-05:00",
          "2021-02-24T13:15:00-05:00",
          "2021-02-24T13:16:00-05:00",
          "2021-02-24T13:17:00-05:00",
          "2021-02-24T13:18:00-05:00",
          "2021-02-24T13:19:00-05:00",
          "2021-02-24T13:20:00-05:00",
          "2021-02-24T13:21:00-05:00",
          "2021-02-24T13:22:00-05:00",
          "2021-02-24T13:23:00-05:00",
          "2021-02-24T13:24:00-05:00",
          "2021-02-24T13:25:00-05:00",
          "2021-02-24T13:26:00-05:00",
          "2021-02-24T13:27:00-05:00",
          "2021-02-24T13:28:00-05:00",
          "2021-02-24T13:29:00-05:00",
          "2021-02-24T13:31:00-05:00",
          "2021-02-24T13:33:00-05:00",
          "2021-02-24T13:34:00-05:00",
          "2021-02-24T13:35:00-05:00",
          "2021-02-24T13:36:00-05:00",
          "2021-02-24T13:37:00-05:00",
          "2021-02-24T13:38:00-05:00",
          "2021-02-24T13:39:00-05:00",
          "2021-02-24T13:40:00-05:00",
          "2021-02-24T13:41:00-05:00",
          "2021-02-24T13:42:00-05:00",
          "2021-02-24T13:43:00-05:00",
          "2021-02-24T13:44:00-05:00",
          "2021-02-24T13:45:00-05:00",
          "2021-02-24T13:46:00-05:00",
          "2021-02-24T13:47:00-05:00",
          "2021-02-24T13:48:00-05:00",
          "2021-02-24T13:49:00-05:00",
          "2021-02-24T13:50:00-05:00",
          "2021-02-24T13:51:00-05:00",
          "2021-02-24T13:52:00-05:00",
          "2021-02-24T13:53:00-05:00",
          "2021-02-24T13:54:00-05:00",
          "2021-02-24T13:55:00-05:00",
          "2021-02-24T13:56:00-05:00",
          "2021-02-24T13:57:00-05:00",
          "2021-02-24T13:58:00-05:00",
          "2021-02-24T13:59:00-05:00",
          "2021-02-24T14:00:00-05:00",
          "2021-02-24T14:01:00-05:00",
          "2021-02-24T14:03:00-05:00",
          "2021-02-24T14:04:00-05:00",
          "2021-02-24T14:05:00-05:00",
          "2021-02-24T14:06:00-05:00",
          "2021-02-24T14:07:00-05:00",
          "2021-02-24T14:08:00-05:00",
          "2021-02-24T14:09:00-05:00",
          "2021-02-24T14:10:00-05:00",
          "2021-02-24T14:11:00-05:00",
          "2021-02-24T14:12:00-05:00",
          "2021-02-24T14:14:00-05:00",
          "2021-02-24T14:15:00-05:00",
          "2021-02-24T14:16:00-05:00",
          "2021-02-24T14:17:00-05:00",
          "2021-02-24T14:18:00-05:00",
          "2021-02-24T14:19:00-05:00",
          "2021-02-24T14:21:00-05:00",
          "2021-02-24T14:22:00-05:00",
          "2021-02-24T14:23:00-05:00",
          "2021-02-24T14:24:00-05:00",
          "2021-02-24T14:25:00-05:00",
          "2021-02-24T14:26:00-05:00",
          "2021-02-24T14:28:00-05:00",
          "2021-02-24T14:30:00-05:00",
          "2021-02-24T14:31:00-05:00",
          "2021-02-24T14:32:00-05:00",
          "2021-02-24T14:33:00-05:00",
          "2021-02-24T14:34:00-05:00",
          "2021-02-24T14:35:00-05:00",
          "2021-02-24T14:36:00-05:00",
          "2021-02-24T14:37:00-05:00",
          "2021-02-24T14:38:00-05:00",
          "2021-02-24T14:39:00-05:00",
          "2021-02-24T14:40:00-05:00",
          "2021-02-24T14:41:00-05:00",
          "2021-02-24T14:42:00-05:00",
          "2021-02-24T14:43:00-05:00",
          "2021-02-24T14:44:00-05:00",
          "2021-02-24T14:45:00-05:00",
          "2021-02-24T14:46:00-05:00",
          "2021-02-24T14:47:00-05:00",
          "2021-02-24T14:48:00-05:00",
          "2021-02-24T14:49:00-05:00",
          "2021-02-24T14:50:00-05:00",
          "2021-02-24T14:51:00-05:00",
          "2021-02-24T14:52:00-05:00",
          "2021-02-24T14:53:00-05:00",
          "2021-02-24T14:54:00-05:00",
          "2021-02-24T14:55:00-05:00",
          "2021-02-24T14:56:00-05:00",
          "2021-02-24T14:58:00-05:00",
          "2021-02-24T14:59:00-05:00",
          "2021-02-24T15:00:00-05:00",
          "2021-02-24T15:01:00-05:00",
          "2021-02-24T15:02:00-05:00",
          "2021-02-24T15:03:00-05:00",
          "2021-02-24T15:04:00-05:00",
          "2021-02-24T15:05:00-05:00",
          "2021-02-24T15:06:00-05:00",
          "2021-02-24T15:07:00-05:00",
          "2021-02-24T15:08:00-05:00",
          "2021-02-24T15:09:00-05:00",
          "2021-02-24T15:10:00-05:00",
          "2021-02-24T15:11:00-05:00",
          "2021-02-24T15:12:00-05:00",
          "2021-02-24T15:13:00-05:00",
          "2021-02-24T15:14:00-05:00",
          "2021-02-24T15:15:00-05:00",
          "2021-02-24T15:16:00-05:00",
          "2021-02-24T15:17:00-05:00",
          "2021-02-24T15:18:00-05:00",
          "2021-02-24T15:19:00-05:00",
          "2021-02-24T15:20:00-05:00",
          "2021-02-24T15:21:00-05:00",
          "2021-02-24T15:22:00-05:00",
          "2021-02-24T15:23:00-05:00",
          "2021-02-24T15:24:00-05:00",
          "2021-02-24T15:25:00-05:00",
          "2021-02-24T15:26:00-05:00",
          "2021-02-24T15:27:00-05:00",
          "2021-02-24T15:28:00-05:00",
          "2021-02-24T15:29:00-05:00",
          "2021-02-24T15:30:00-05:00",
          "2021-02-24T15:31:00-05:00",
          "2021-02-24T15:32:00-05:00",
          "2021-02-24T15:33:00-05:00",
          "2021-02-24T15:34:00-05:00",
          "2021-02-24T15:35:00-05:00",
          "2021-02-24T15:36:00-05:00",
          "2021-02-24T15:37:00-05:00",
          "2021-02-24T15:38:00-05:00",
          "2021-02-24T15:39:00-05:00",
          "2021-02-24T15:40:00-05:00",
          "2021-02-24T15:41:00-05:00",
          "2021-02-24T15:42:00-05:00",
          "2021-02-24T15:43:00-05:00",
          "2021-02-24T15:44:00-05:00",
          "2021-02-24T15:45:00-05:00",
          "2021-02-24T15:46:00-05:00",
          "2021-02-24T15:47:00-05:00",
          "2021-02-24T15:48:00-05:00",
          "2021-02-24T15:49:00-05:00",
          "2021-02-24T15:50:00-05:00",
          "2021-02-24T15:51:00-05:00",
          "2021-02-24T15:52:00-05:00",
          "2021-02-24T15:53:00-05:00",
          "2021-02-24T15:54:00-05:00",
          "2021-02-24T15:55:00-05:00",
          "2021-02-24T15:56:00-05:00",
          "2021-02-24T15:57:00-05:00",
          "2021-02-24T15:58:00-05:00",
          "2021-02-24T15:59:00-05:00"
         ],
         "xaxis": "x",
         "y": [
          15.550000190734863,
          15.609999656677246,
          15.642499923706055,
          15.600000381469727,
          15.5,
          15.390000343322754,
          15.380000114440918,
          15.204500198364258,
          15.260000228881836,
          15.359999656677246,
          15.329999923706055,
          15.270000457763672,
          15.3149995803833,
          15.3100004196167,
          15.239999771118164,
          15.34000015258789,
          15.399999618530273,
          15.375,
          15.402199745178223,
          15.430000305175781,
          15.300000190734863,
          15.380000114440918,
          15.320099830627441,
          15.34000015258789,
          15.314200401306152,
          15.252799987792969,
          15.229999542236328,
          15.206299781799316,
          15.187000274658203,
          15.300000190734863,
          15.319999694824219,
          15.13010025024414,
          15.109999656677246,
          15.069999694824219,
          15.079999923706055,
          15.199999809265137,
          15.319999694824219,
          15.1850004196167,
          15.21500015258789,
          15.260000228881836,
          15.234999656677246,
          15.199999809265137,
          15.194999694824219,
          15.28499984741211,
          15.369999885559082,
          15.387900352478027,
          15.399999618530273,
          15.460000038146973,
          15.390000343322754,
          15.369999885559082,
          15.369999885559082,
          15.390000343322754,
          15.449999809265137,
          15.489999771118164,
          15.359999656677246,
          15.34000015258789,
          15.380000114440918,
          15.350000381469727,
          15.390000343322754,
          15.390000343322754,
          15.420000076293945,
          15.380000114440918,
          15.380000114440918,
          15.449999809265137,
          15.449999809265137,
          15.430000305175781,
          15.40999984741211,
          15.420000076293945,
          15.489999771118164,
          15.449999809265137,
          15.487299919128418,
          15.430000305175781,
          15.489700317382812,
          15.630000114440918,
          15.59000015258789,
          15.680000305175781,
          15.675000190734863,
          15.664999961853027,
          15.630000114440918,
          15.670000076293945,
          15.6899995803833,
          15.719499588012695,
          15.710000038146973,
          15.6899995803833,
          15.710000038146973,
          15.729999542236328,
          15.6899995803833,
          15.699999809265137,
          15.680000305175781,
          15.789999961853027,
          15.850000381469727,
          15.770000457763672,
          15.720000267028809,
          15.670000076293945,
          15.680000305175781,
          15.710000038146973,
          15.720000267028809,
          15.725000381469727,
          15.6899995803833,
          15.699999809265137,
          15.618300437927246,
          15.699999809265137,
          15.649999618530273,
          15.649999618530273,
          15.600000381469727,
          15.569999694824219,
          15.564900398254395,
          15.614999771118164,
          15.6899995803833,
          15.649999618530273,
          15.600000381469727,
          15.59000015258789,
          15.5600004196167,
          15.539999961853027,
          15.520000457763672,
          15.529999732971191,
          15.529999732971191,
          15.649999618530273,
          15.66919994354248,
          15.645000457763672,
          15.59000015258789,
          15.646100044250488,
          15.550000190734863,
          15.520000457763672,
          15.4399995803833,
          15.420000076293945,
          15.385000228881836,
          15.430000305175781,
          15.4350004196167,
          15.470000267028809,
          15.420000076293945,
          15.459500312805176,
          15.449999809265137,
          15.430000305175781,
          15.420000076293945,
          15.369999885559082,
          15.38070011138916,
          15.390000343322754,
          15.399999618530273,
          15.442000389099121,
          15.479900360107422,
          15.439800262451172,
          15.539999961853027,
          15.479999542236328,
          15.430000305175781,
          15.460000038146973,
          15.420000076293945,
          15.472700119018555,
          15.449999809265137,
          15.40999984741211,
          15.44480037689209,
          15.40999984741211,
          15.420000076293945,
          15.40999984741211,
          15.380000114440918,
          15.369999885559082,
          15.34000015258789,
          15.359999656677246,
          15.311800003051758,
          15.3100004196167,
          15.389900207519531,
          15.40999984741211,
          15.430000305175781,
          15.359999656677246,
          15.350099563598633,
          15.380000114440918,
          15.420000076293945,
          15.469599723815918,
          15.489999771118164,
          15.430100440979004,
          15.45479965209961,
          15.4399995803833,
          15.4399995803833,
          15.484800338745117,
          15.460000038146973,
          15.449999809265137,
          15.469499588012695,
          15.430000305175781,
          15.397500038146973,
          15.421299934387207,
          15.430000305175781,
          15.369999885559082,
          15.399999618530273,
          15.438599586486816,
          15.479999542236328,
          15.489999771118164,
          15.479999542236328,
          15.449999809265137,
          15.460000038146973,
          15.40999984741211,
          15.390000343322754,
          15.460000038146973,
          15.469499588012695,
          15.4399995803833,
          15.490900039672852,
          15.475000381469727,
          15.454400062561035,
          15.426199913024902,
          15.40999984741211,
          15.407999992370605,
          15.430000305175781,
          15.489999771118164,
          15.449999809265137,
          15.5,
          15.528800010681152,
          15.520000457763672,
          15.53499984741211,
          15.567999839782715,
          15.520000457763672,
          15.539999961853027,
          15.544099807739258,
          15.520000457763672,
          15.614999771118164,
          15.5600004196167,
          15.579999923706055,
          15.574999809265137,
          15.598999977111816,
          15.626500129699707,
          15.600000381469727,
          15.674400329589844,
          15.720000267028809,
          15.740500450134277,
          15.670000076293945,
          15.6899995803833,
          15.789999961853027,
          15.850000381469727,
          15.850000381469727,
          15.850000381469727,
          15.84630012512207,
          15.8149995803833,
          15.770000457763672,
          15.781200408935547,
          15.762200355529785,
          15.800000190734863,
          15.8149995803833,
          15.84000015258789,
          15.852100372314453,
          15.858099937438965,
          15.835000038146973,
          15.8100004196167,
          15.819999694824219,
          15.8100004196167,
          15.8100004196167,
          15.8100004196167,
          15.746500015258789,
          15.770000457763672,
          15.859999656677246,
          15.789999961853027,
          15.800000190734863,
          15.829999923706055,
          15.760000228881836,
          15.8149995803833,
          15.779999732971191,
          15.765000343322754,
          15.79990005493164,
          15.770000457763672,
          15.739999771118164,
          15.734999656677246,
          15.694999694824219,
          15.692000389099121,
          15.739999771118164,
          15.770000457763672,
          15.740599632263184,
          15.71500015258789,
          15.819899559020996,
          15.760000228881836,
          15.779999732971191,
          15.739999771118164,
          15.770000457763672,
          15.770000457763672,
          15.789899826049805,
          15.740099906921387,
          15.774999618530273,
          15.739999771118164,
          15.770000457763672,
          15.800000190734863,
          15.8100004196167,
          15.819999694824219,
          15.8100004196167,
          15.819999694824219,
          15.850000381469727,
          15.845000267028809,
          15.859999656677246,
          15.863800048828125,
          15.869999885559082,
          15.837400436401367,
          15.895000457763672,
          15.911999702453613,
          15.899999618530273,
          15.899999618530273,
          15.899999618530273,
          15.859999656677246,
          15.850000381469727,
          15.835000038146973,
          15.864999771118164,
          15.890000343322754,
          15.880000114440918,
          15.840100288391113,
          15.880000114440918,
          15.890000343322754,
          15.890000343322754,
          15.866000175476074,
          15.88129997253418,
          15.920000076293945,
          15.946999549865723,
          15.925000190734863,
          15.949999809265137,
          15.899999618530273,
          15.904999732971191,
          15.920000076293945,
          15.925000190734863,
          15.920000076293945,
          15.899999618530273,
          15.885000228881836,
          15.89009952545166,
          15.899999618530273,
          15.880000114440918,
          15.920000076293945,
          15.880000114440918,
          15.885000228881836,
          15.899999618530273,
          15.920000076293945,
          15.920000076293945,
          15.90999984741211,
          15.949999809265137,
          15.914999961853027,
          15.9399995803833,
          15.899999618530273,
          15.899999618530273,
          15.920000076293945,
          15.8100004196167,
          15.819999694824219,
          15.829999923706055,
          15.800000190734863,
          15.84000015258789,
          15.850000381469727,
          15.84000015258789,
          15.829999923706055,
          15.760000228881836,
          15.739999771118164,
          15.765000343322754,
          15.765000343322754,
          15.779999732971191,
          15.779999732971191,
          15.770000457763672,
          15.729999542236328,
          15.720000267028809,
          15.6899995803833,
          15.710000038146973,
          15.6850004196167,
          15.75,
          15.725000381469727,
          15.710000038146973,
          15.734999656677246,
          15.744999885559082,
          15.744999885559082,
          15.744999885559082,
          15.734999656677246,
          15.725000381469727,
          15.72719955444336,
          15.699999809265137,
          15.680000305175781,
          15.65999984741211,
          15.680000305175781,
          15.6899995803833
         ],
         "yaxis": "y"
        }
       ],
       "layout": {
        "legend": {
         "tracegroupgap": 0
        },
        "template": {
         "data": {
          "bar": [
           {
            "error_x": {
             "color": "#2a3f5f"
            },
            "error_y": {
             "color": "#2a3f5f"
            },
            "marker": {
             "line": {
              "color": "#E5ECF6",
              "width": 0.5
             }
            },
            "type": "bar"
           }
          ],
          "barpolar": [
           {
            "marker": {
             "line": {
              "color": "#E5ECF6",
              "width": 0.5
             }
            },
            "type": "barpolar"
           }
          ],
          "carpet": [
           {
            "aaxis": {
             "endlinecolor": "#2a3f5f",
             "gridcolor": "white",
             "linecolor": "white",
             "minorgridcolor": "white",
             "startlinecolor": "#2a3f5f"
            },
            "baxis": {
             "endlinecolor": "#2a3f5f",
             "gridcolor": "white",
             "linecolor": "white",
             "minorgridcolor": "white",
             "startlinecolor": "#2a3f5f"
            },
            "type": "carpet"
           }
          ],
          "choropleth": [
           {
            "colorbar": {
             "outlinewidth": 0,
             "ticks": ""
            },
            "type": "choropleth"
           }
          ],
          "contour": [
           {
            "colorbar": {
             "outlinewidth": 0,
             "ticks": ""
            },
            "colorscale": [
             [
              0,
              "#0d0887"
             ],
             [
              0.1111111111111111,
              "#46039f"
             ],
             [
              0.2222222222222222,
              "#7201a8"
             ],
             [
              0.3333333333333333,
              "#9c179e"
             ],
             [
              0.4444444444444444,
              "#bd3786"
             ],
             [
              0.5555555555555556,
              "#d8576b"
             ],
             [
              0.6666666666666666,
              "#ed7953"
             ],
             [
              0.7777777777777778,
              "#fb9f3a"
             ],
             [
              0.8888888888888888,
              "#fdca26"
             ],
             [
              1,
              "#f0f921"
             ]
            ],
            "type": "contour"
           }
          ],
          "contourcarpet": [
           {
            "colorbar": {
             "outlinewidth": 0,
             "ticks": ""
            },
            "type": "contourcarpet"
           }
          ],
          "heatmap": [
           {
            "colorbar": {
             "outlinewidth": 0,
             "ticks": ""
            },
            "colorscale": [
             [
              0,
              "#0d0887"
             ],
             [
              0.1111111111111111,
              "#46039f"
             ],
             [
              0.2222222222222222,
              "#7201a8"
             ],
             [
              0.3333333333333333,
              "#9c179e"
             ],
             [
              0.4444444444444444,
              "#bd3786"
             ],
             [
              0.5555555555555556,
              "#d8576b"
             ],
             [
              0.6666666666666666,
              "#ed7953"
             ],
             [
              0.7777777777777778,
              "#fb9f3a"
             ],
             [
              0.8888888888888888,
              "#fdca26"
             ],
             [
              1,
              "#f0f921"
             ]
            ],
            "type": "heatmap"
           }
          ],
          "heatmapgl": [
           {
            "colorbar": {
             "outlinewidth": 0,
             "ticks": ""
            },
            "colorscale": [
             [
              0,
              "#0d0887"
             ],
             [
              0.1111111111111111,
              "#46039f"
             ],
             [
              0.2222222222222222,
              "#7201a8"
             ],
             [
              0.3333333333333333,
              "#9c179e"
             ],
             [
              0.4444444444444444,
              "#bd3786"
             ],
             [
              0.5555555555555556,
              "#d8576b"
             ],
             [
              0.6666666666666666,
              "#ed7953"
             ],
             [
              0.7777777777777778,
              "#fb9f3a"
             ],
             [
              0.8888888888888888,
              "#fdca26"
             ],
             [
              1,
              "#f0f921"
             ]
            ],
            "type": "heatmapgl"
           }
          ],
          "histogram": [
           {
            "marker": {
             "colorbar": {
              "outlinewidth": 0,
              "ticks": ""
             }
            },
            "type": "histogram"
           }
          ],
          "histogram2d": [
           {
            "colorbar": {
             "outlinewidth": 0,
             "ticks": ""
            },
            "colorscale": [
             [
              0,
              "#0d0887"
             ],
             [
              0.1111111111111111,
              "#46039f"
             ],
             [
              0.2222222222222222,
              "#7201a8"
             ],
             [
              0.3333333333333333,
              "#9c179e"
             ],
             [
              0.4444444444444444,
              "#bd3786"
             ],
             [
              0.5555555555555556,
              "#d8576b"
             ],
             [
              0.6666666666666666,
              "#ed7953"
             ],
             [
              0.7777777777777778,
              "#fb9f3a"
             ],
             [
              0.8888888888888888,
              "#fdca26"
             ],
             [
              1,
              "#f0f921"
             ]
            ],
            "type": "histogram2d"
           }
          ],
          "histogram2dcontour": [
           {
            "colorbar": {
             "outlinewidth": 0,
             "ticks": ""
            },
            "colorscale": [
             [
              0,
              "#0d0887"
             ],
             [
              0.1111111111111111,
              "#46039f"
             ],
             [
              0.2222222222222222,
              "#7201a8"
             ],
             [
              0.3333333333333333,
              "#9c179e"
             ],
             [
              0.4444444444444444,
              "#bd3786"
             ],
             [
              0.5555555555555556,
              "#d8576b"
             ],
             [
              0.6666666666666666,
              "#ed7953"
             ],
             [
              0.7777777777777778,
              "#fb9f3a"
             ],
             [
              0.8888888888888888,
              "#fdca26"
             ],
             [
              1,
              "#f0f921"
             ]
            ],
            "type": "histogram2dcontour"
           }
          ],
          "mesh3d": [
           {
            "colorbar": {
             "outlinewidth": 0,
             "ticks": ""
            },
            "type": "mesh3d"
           }
          ],
          "parcoords": [
           {
            "line": {
             "colorbar": {
              "outlinewidth": 0,
              "ticks": ""
             }
            },
            "type": "parcoords"
           }
          ],
          "pie": [
           {
            "automargin": true,
            "type": "pie"
           }
          ],
          "scatter": [
           {
            "marker": {
             "colorbar": {
              "outlinewidth": 0,
              "ticks": ""
             }
            },
            "type": "scatter"
           }
          ],
          "scatter3d": [
           {
            "line": {
             "colorbar": {
              "outlinewidth": 0,
              "ticks": ""
             }
            },
            "marker": {
             "colorbar": {
              "outlinewidth": 0,
              "ticks": ""
             }
            },
            "type": "scatter3d"
           }
          ],
          "scattercarpet": [
           {
            "marker": {
             "colorbar": {
              "outlinewidth": 0,
              "ticks": ""
             }
            },
            "type": "scattercarpet"
           }
          ],
          "scattergeo": [
           {
            "marker": {
             "colorbar": {
              "outlinewidth": 0,
              "ticks": ""
             }
            },
            "type": "scattergeo"
           }
          ],
          "scattergl": [
           {
            "marker": {
             "colorbar": {
              "outlinewidth": 0,
              "ticks": ""
             }
            },
            "type": "scattergl"
           }
          ],
          "scattermapbox": [
           {
            "marker": {
             "colorbar": {
              "outlinewidth": 0,
              "ticks": ""
             }
            },
            "type": "scattermapbox"
           }
          ],
          "scatterpolar": [
           {
            "marker": {
             "colorbar": {
              "outlinewidth": 0,
              "ticks": ""
             }
            },
            "type": "scatterpolar"
           }
          ],
          "scatterpolargl": [
           {
            "marker": {
             "colorbar": {
              "outlinewidth": 0,
              "ticks": ""
             }
            },
            "type": "scatterpolargl"
           }
          ],
          "scatterternary": [
           {
            "marker": {
             "colorbar": {
              "outlinewidth": 0,
              "ticks": ""
             }
            },
            "type": "scatterternary"
           }
          ],
          "surface": [
           {
            "colorbar": {
             "outlinewidth": 0,
             "ticks": ""
            },
            "colorscale": [
             [
              0,
              "#0d0887"
             ],
             [
              0.1111111111111111,
              "#46039f"
             ],
             [
              0.2222222222222222,
              "#7201a8"
             ],
             [
              0.3333333333333333,
              "#9c179e"
             ],
             [
              0.4444444444444444,
              "#bd3786"
             ],
             [
              0.5555555555555556,
              "#d8576b"
             ],
             [
              0.6666666666666666,
              "#ed7953"
             ],
             [
              0.7777777777777778,
              "#fb9f3a"
             ],
             [
              0.8888888888888888,
              "#fdca26"
             ],
             [
              1,
              "#f0f921"
             ]
            ],
            "type": "surface"
           }
          ],
          "table": [
           {
            "cells": {
             "fill": {
              "color": "#EBF0F8"
             },
             "line": {
              "color": "white"
             }
            },
            "header": {
             "fill": {
              "color": "#C8D4E3"
             },
             "line": {
              "color": "white"
             }
            },
            "type": "table"
           }
          ]
         },
         "layout": {
          "annotationdefaults": {
           "arrowcolor": "#2a3f5f",
           "arrowhead": 0,
           "arrowwidth": 1
          },
          "autotypenumbers": "strict",
          "coloraxis": {
           "colorbar": {
            "outlinewidth": 0,
            "ticks": ""
           }
          },
          "colorscale": {
           "diverging": [
            [
             0,
             "#8e0152"
            ],
            [
             0.1,
             "#c51b7d"
            ],
            [
             0.2,
             "#de77ae"
            ],
            [
             0.3,
             "#f1b6da"
            ],
            [
             0.4,
             "#fde0ef"
            ],
            [
             0.5,
             "#f7f7f7"
            ],
            [
             0.6,
             "#e6f5d0"
            ],
            [
             0.7,
             "#b8e186"
            ],
            [
             0.8,
             "#7fbc41"
            ],
            [
             0.9,
             "#4d9221"
            ],
            [
             1,
             "#276419"
            ]
           ],
           "sequential": [
            [
             0,
             "#0d0887"
            ],
            [
             0.1111111111111111,
             "#46039f"
            ],
            [
             0.2222222222222222,
             "#7201a8"
            ],
            [
             0.3333333333333333,
             "#9c179e"
            ],
            [
             0.4444444444444444,
             "#bd3786"
            ],
            [
             0.5555555555555556,
             "#d8576b"
            ],
            [
             0.6666666666666666,
             "#ed7953"
            ],
            [
             0.7777777777777778,
             "#fb9f3a"
            ],
            [
             0.8888888888888888,
             "#fdca26"
            ],
            [
             1,
             "#f0f921"
            ]
           ],
           "sequentialminus": [
            [
             0,
             "#0d0887"
            ],
            [
             0.1111111111111111,
             "#46039f"
            ],
            [
             0.2222222222222222,
             "#7201a8"
            ],
            [
             0.3333333333333333,
             "#9c179e"
            ],
            [
             0.4444444444444444,
             "#bd3786"
            ],
            [
             0.5555555555555556,
             "#d8576b"
            ],
            [
             0.6666666666666666,
             "#ed7953"
            ],
            [
             0.7777777777777778,
             "#fb9f3a"
            ],
            [
             0.8888888888888888,
             "#fdca26"
            ],
            [
             1,
             "#f0f921"
            ]
           ]
          },
          "colorway": [
           "#636efa",
           "#EF553B",
           "#00cc96",
           "#ab63fa",
           "#FFA15A",
           "#19d3f3",
           "#FF6692",
           "#B6E880",
           "#FF97FF",
           "#FECB52"
          ],
          "font": {
           "color": "#2a3f5f"
          },
          "geo": {
           "bgcolor": "white",
           "lakecolor": "white",
           "landcolor": "#E5ECF6",
           "showlakes": true,
           "showland": true,
           "subunitcolor": "white"
          },
          "hoverlabel": {
           "align": "left"
          },
          "hovermode": "closest",
          "mapbox": {
           "style": "light"
          },
          "paper_bgcolor": "white",
          "plot_bgcolor": "#E5ECF6",
          "polar": {
           "angularaxis": {
            "gridcolor": "white",
            "linecolor": "white",
            "ticks": ""
           },
           "bgcolor": "#E5ECF6",
           "radialaxis": {
            "gridcolor": "white",
            "linecolor": "white",
            "ticks": ""
           }
          },
          "scene": {
           "xaxis": {
            "backgroundcolor": "#E5ECF6",
            "gridcolor": "white",
            "gridwidth": 2,
            "linecolor": "white",
            "showbackground": true,
            "ticks": "",
            "zerolinecolor": "white"
           },
           "yaxis": {
            "backgroundcolor": "#E5ECF6",
            "gridcolor": "white",
            "gridwidth": 2,
            "linecolor": "white",
            "showbackground": true,
            "ticks": "",
            "zerolinecolor": "white"
           },
           "zaxis": {
            "backgroundcolor": "#E5ECF6",
            "gridcolor": "white",
            "gridwidth": 2,
            "linecolor": "white",
            "showbackground": true,
            "ticks": "",
            "zerolinecolor": "white"
           }
          },
          "shapedefaults": {
           "line": {
            "color": "#2a3f5f"
           }
          },
          "ternary": {
           "aaxis": {
            "gridcolor": "white",
            "linecolor": "white",
            "ticks": ""
           },
           "baxis": {
            "gridcolor": "white",
            "linecolor": "white",
            "ticks": ""
           },
           "bgcolor": "#E5ECF6",
           "caxis": {
            "gridcolor": "white",
            "linecolor": "white",
            "ticks": ""
           }
          },
          "title": {
           "x": 0.05
          },
          "xaxis": {
           "automargin": true,
           "gridcolor": "white",
           "linecolor": "white",
           "ticks": "",
           "title": {
            "standoff": 15
           },
           "zerolinecolor": "white",
           "zerolinewidth": 2
          },
          "yaxis": {
           "automargin": true,
           "gridcolor": "white",
           "linecolor": "white",
           "ticks": "",
           "title": {
            "standoff": 15
           },
           "zerolinecolor": "white",
           "zerolinewidth": 2
          }
         }
        },
        "title": {
         "text": "TCS Share Price Over time"
        },
        "xaxis": {
         "anchor": "y",
         "domain": [
          0,
          1
         ],
         "title": {
          "text": "Datetime"
         }
        },
        "yaxis": {
         "anchor": "x",
         "domain": [
          0,
          1
         ],
         "title": {
          "text": "Close"
         }
        }
       }
      },
      "text/html": [
       "<div>                            <div id=\"7f190d1a-5d13-4e01-9c8d-e076ccf19926\" class=\"plotly-graph-div\" style=\"height:525px; width:100%;\"></div>            <script type=\"text/javascript\">                require([\"plotly\"], function(Plotly) {                    window.PLOTLYENV=window.PLOTLYENV || {};                                    if (document.getElementById(\"7f190d1a-5d13-4e01-9c8d-e076ccf19926\")) {                    Plotly.newPlot(                        \"7f190d1a-5d13-4e01-9c8d-e076ccf19926\",                        [{\"hovertemplate\": \"Datetime=%{x}<br>Close=%{y}<extra></extra>\", \"legendgroup\": \"\", \"line\": {\"color\": \"#636efa\", \"dash\": \"solid\"}, \"mode\": \"lines\", \"name\": \"\", \"orientation\": \"v\", \"showlegend\": false, \"type\": \"scatter\", \"x\": [\"2021-02-24T09:30:00-05:00\", \"2021-02-24T09:32:00-05:00\", \"2021-02-24T09:33:00-05:00\", \"2021-02-24T09:34:00-05:00\", \"2021-02-24T09:35:00-05:00\", \"2021-02-24T09:36:00-05:00\", \"2021-02-24T09:37:00-05:00\", \"2021-02-24T09:38:00-05:00\", \"2021-02-24T09:39:00-05:00\", \"2021-02-24T09:40:00-05:00\", \"2021-02-24T09:41:00-05:00\", \"2021-02-24T09:42:00-05:00\", \"2021-02-24T09:43:00-05:00\", \"2021-02-24T09:44:00-05:00\", \"2021-02-24T09:45:00-05:00\", \"2021-02-24T09:46:00-05:00\", \"2021-02-24T09:47:00-05:00\", \"2021-02-24T09:48:00-05:00\", \"2021-02-24T09:49:00-05:00\", \"2021-02-24T09:50:00-05:00\", \"2021-02-24T09:51:00-05:00\", \"2021-02-24T09:52:00-05:00\", \"2021-02-24T09:53:00-05:00\", \"2021-02-24T09:54:00-05:00\", \"2021-02-24T09:55:00-05:00\", \"2021-02-24T09:56:00-05:00\", \"2021-02-24T09:57:00-05:00\", \"2021-02-24T09:58:00-05:00\", \"2021-02-24T09:59:00-05:00\", \"2021-02-24T10:00:00-05:00\", \"2021-02-24T10:01:00-05:00\", \"2021-02-24T10:02:00-05:00\", \"2021-02-24T10:03:00-05:00\", \"2021-02-24T10:04:00-05:00\", \"2021-02-24T10:05:00-05:00\", \"2021-02-24T10:06:00-05:00\", \"2021-02-24T10:07:00-05:00\", \"2021-02-24T10:08:00-05:00\", \"2021-02-24T10:09:00-05:00\", \"2021-02-24T10:10:00-05:00\", \"2021-02-24T10:11:00-05:00\", \"2021-02-24T10:12:00-05:00\", \"2021-02-24T10:13:00-05:00\", \"2021-02-24T10:14:00-05:00\", \"2021-02-24T10:15:00-05:00\", \"2021-02-24T10:16:00-05:00\", \"2021-02-24T10:17:00-05:00\", \"2021-02-24T10:18:00-05:00\", \"2021-02-24T10:19:00-05:00\", \"2021-02-24T10:20:00-05:00\", \"2021-02-24T10:21:00-05:00\", \"2021-02-24T10:22:00-05:00\", \"2021-02-24T10:23:00-05:00\", \"2021-02-24T10:24:00-05:00\", \"2021-02-24T10:25:00-05:00\", \"2021-02-24T10:26:00-05:00\", \"2021-02-24T10:27:00-05:00\", \"2021-02-24T10:28:00-05:00\", \"2021-02-24T10:29:00-05:00\", \"2021-02-24T10:30:00-05:00\", \"2021-02-24T10:31:00-05:00\", \"2021-02-24T10:32:00-05:00\", \"2021-02-24T10:33:00-05:00\", \"2021-02-24T10:34:00-05:00\", \"2021-02-24T10:35:00-05:00\", \"2021-02-24T10:36:00-05:00\", \"2021-02-24T10:37:00-05:00\", \"2021-02-24T10:38:00-05:00\", \"2021-02-24T10:39:00-05:00\", \"2021-02-24T10:40:00-05:00\", \"2021-02-24T10:41:00-05:00\", \"2021-02-24T10:42:00-05:00\", \"2021-02-24T10:43:00-05:00\", \"2021-02-24T10:44:00-05:00\", \"2021-02-24T10:45:00-05:00\", \"2021-02-24T10:46:00-05:00\", \"2021-02-24T10:47:00-05:00\", \"2021-02-24T10:48:00-05:00\", \"2021-02-24T10:49:00-05:00\", \"2021-02-24T10:50:00-05:00\", \"2021-02-24T10:51:00-05:00\", \"2021-02-24T10:52:00-05:00\", \"2021-02-24T10:53:00-05:00\", \"2021-02-24T10:54:00-05:00\", \"2021-02-24T10:55:00-05:00\", \"2021-02-24T10:56:00-05:00\", \"2021-02-24T10:57:00-05:00\", \"2021-02-24T10:58:00-05:00\", \"2021-02-24T10:59:00-05:00\", \"2021-02-24T11:00:00-05:00\", \"2021-02-24T11:01:00-05:00\", \"2021-02-24T11:02:00-05:00\", \"2021-02-24T11:03:00-05:00\", \"2021-02-24T11:04:00-05:00\", \"2021-02-24T11:05:00-05:00\", \"2021-02-24T11:06:00-05:00\", \"2021-02-24T11:08:00-05:00\", \"2021-02-24T11:09:00-05:00\", \"2021-02-24T11:10:00-05:00\", \"2021-02-24T11:12:00-05:00\", \"2021-02-24T11:14:00-05:00\", \"2021-02-24T11:15:00-05:00\", \"2021-02-24T11:17:00-05:00\", \"2021-02-24T11:18:00-05:00\", \"2021-02-24T11:19:00-05:00\", \"2021-02-24T11:20:00-05:00\", \"2021-02-24T11:22:00-05:00\", \"2021-02-24T11:23:00-05:00\", \"2021-02-24T11:24:00-05:00\", \"2021-02-24T11:25:00-05:00\", \"2021-02-24T11:26:00-05:00\", \"2021-02-24T11:27:00-05:00\", \"2021-02-24T11:28:00-05:00\", \"2021-02-24T11:29:00-05:00\", \"2021-02-24T11:30:00-05:00\", \"2021-02-24T11:31:00-05:00\", \"2021-02-24T11:32:00-05:00\", \"2021-02-24T11:34:00-05:00\", \"2021-02-24T11:35:00-05:00\", \"2021-02-24T11:36:00-05:00\", \"2021-02-24T11:37:00-05:00\", \"2021-02-24T11:38:00-05:00\", \"2021-02-24T11:39:00-05:00\", \"2021-02-24T11:40:00-05:00\", \"2021-02-24T11:42:00-05:00\", \"2021-02-24T11:43:00-05:00\", \"2021-02-24T11:44:00-05:00\", \"2021-02-24T11:45:00-05:00\", \"2021-02-24T11:46:00-05:00\", \"2021-02-24T11:49:00-05:00\", \"2021-02-24T11:50:00-05:00\", \"2021-02-24T11:51:00-05:00\", \"2021-02-24T11:52:00-05:00\", \"2021-02-24T11:53:00-05:00\", \"2021-02-24T11:54:00-05:00\", \"2021-02-24T11:55:00-05:00\", \"2021-02-24T11:56:00-05:00\", \"2021-02-24T11:57:00-05:00\", \"2021-02-24T11:58:00-05:00\", \"2021-02-24T11:59:00-05:00\", \"2021-02-24T12:00:00-05:00\", \"2021-02-24T12:01:00-05:00\", \"2021-02-24T12:03:00-05:00\", \"2021-02-24T12:05:00-05:00\", \"2021-02-24T12:06:00-05:00\", \"2021-02-24T12:07:00-05:00\", \"2021-02-24T12:08:00-05:00\", \"2021-02-24T12:09:00-05:00\", \"2021-02-24T12:11:00-05:00\", \"2021-02-24T12:12:00-05:00\", \"2021-02-24T12:13:00-05:00\", \"2021-02-24T12:14:00-05:00\", \"2021-02-24T12:15:00-05:00\", \"2021-02-24T12:16:00-05:00\", \"2021-02-24T12:17:00-05:00\", \"2021-02-24T12:18:00-05:00\", \"2021-02-24T12:20:00-05:00\", \"2021-02-24T12:21:00-05:00\", \"2021-02-24T12:23:00-05:00\", \"2021-02-24T12:24:00-05:00\", \"2021-02-24T12:25:00-05:00\", \"2021-02-24T12:27:00-05:00\", \"2021-02-24T12:28:00-05:00\", \"2021-02-24T12:29:00-05:00\", \"2021-02-24T12:30:00-05:00\", \"2021-02-24T12:31:00-05:00\", \"2021-02-24T12:32:00-05:00\", \"2021-02-24T12:33:00-05:00\", \"2021-02-24T12:34:00-05:00\", \"2021-02-24T12:35:00-05:00\", \"2021-02-24T12:36:00-05:00\", \"2021-02-24T12:37:00-05:00\", \"2021-02-24T12:38:00-05:00\", \"2021-02-24T12:39:00-05:00\", \"2021-02-24T12:40:00-05:00\", \"2021-02-24T12:41:00-05:00\", \"2021-02-24T12:42:00-05:00\", \"2021-02-24T12:43:00-05:00\", \"2021-02-24T12:44:00-05:00\", \"2021-02-24T12:45:00-05:00\", \"2021-02-24T12:46:00-05:00\", \"2021-02-24T12:47:00-05:00\", \"2021-02-24T12:48:00-05:00\", \"2021-02-24T12:49:00-05:00\", \"2021-02-24T12:50:00-05:00\", \"2021-02-24T12:51:00-05:00\", \"2021-02-24T12:52:00-05:00\", \"2021-02-24T12:53:00-05:00\", \"2021-02-24T12:54:00-05:00\", \"2021-02-24T12:55:00-05:00\", \"2021-02-24T12:56:00-05:00\", \"2021-02-24T12:57:00-05:00\", \"2021-02-24T12:58:00-05:00\", \"2021-02-24T12:59:00-05:00\", \"2021-02-24T13:00:00-05:00\", \"2021-02-24T13:01:00-05:00\", \"2021-02-24T13:02:00-05:00\", \"2021-02-24T13:03:00-05:00\", \"2021-02-24T13:04:00-05:00\", \"2021-02-24T13:05:00-05:00\", \"2021-02-24T13:06:00-05:00\", \"2021-02-24T13:07:00-05:00\", \"2021-02-24T13:08:00-05:00\", \"2021-02-24T13:09:00-05:00\", \"2021-02-24T13:10:00-05:00\", \"2021-02-24T13:12:00-05:00\", \"2021-02-24T13:13:00-05:00\", \"2021-02-24T13:14:00-05:00\", \"2021-02-24T13:15:00-05:00\", \"2021-02-24T13:16:00-05:00\", \"2021-02-24T13:17:00-05:00\", \"2021-02-24T13:18:00-05:00\", \"2021-02-24T13:19:00-05:00\", \"2021-02-24T13:20:00-05:00\", \"2021-02-24T13:21:00-05:00\", \"2021-02-24T13:22:00-05:00\", \"2021-02-24T13:23:00-05:00\", \"2021-02-24T13:24:00-05:00\", \"2021-02-24T13:25:00-05:00\", \"2021-02-24T13:26:00-05:00\", \"2021-02-24T13:27:00-05:00\", \"2021-02-24T13:28:00-05:00\", \"2021-02-24T13:29:00-05:00\", \"2021-02-24T13:31:00-05:00\", \"2021-02-24T13:33:00-05:00\", \"2021-02-24T13:34:00-05:00\", \"2021-02-24T13:35:00-05:00\", \"2021-02-24T13:36:00-05:00\", \"2021-02-24T13:37:00-05:00\", \"2021-02-24T13:38:00-05:00\", \"2021-02-24T13:39:00-05:00\", \"2021-02-24T13:40:00-05:00\", \"2021-02-24T13:41:00-05:00\", \"2021-02-24T13:42:00-05:00\", \"2021-02-24T13:43:00-05:00\", \"2021-02-24T13:44:00-05:00\", \"2021-02-24T13:45:00-05:00\", \"2021-02-24T13:46:00-05:00\", \"2021-02-24T13:47:00-05:00\", \"2021-02-24T13:48:00-05:00\", \"2021-02-24T13:49:00-05:00\", \"2021-02-24T13:50:00-05:00\", \"2021-02-24T13:51:00-05:00\", \"2021-02-24T13:52:00-05:00\", \"2021-02-24T13:53:00-05:00\", \"2021-02-24T13:54:00-05:00\", \"2021-02-24T13:55:00-05:00\", \"2021-02-24T13:56:00-05:00\", \"2021-02-24T13:57:00-05:00\", \"2021-02-24T13:58:00-05:00\", \"2021-02-24T13:59:00-05:00\", \"2021-02-24T14:00:00-05:00\", \"2021-02-24T14:01:00-05:00\", \"2021-02-24T14:03:00-05:00\", \"2021-02-24T14:04:00-05:00\", \"2021-02-24T14:05:00-05:00\", \"2021-02-24T14:06:00-05:00\", \"2021-02-24T14:07:00-05:00\", \"2021-02-24T14:08:00-05:00\", \"2021-02-24T14:09:00-05:00\", \"2021-02-24T14:10:00-05:00\", \"2021-02-24T14:11:00-05:00\", \"2021-02-24T14:12:00-05:00\", \"2021-02-24T14:14:00-05:00\", \"2021-02-24T14:15:00-05:00\", \"2021-02-24T14:16:00-05:00\", \"2021-02-24T14:17:00-05:00\", \"2021-02-24T14:18:00-05:00\", \"2021-02-24T14:19:00-05:00\", \"2021-02-24T14:21:00-05:00\", \"2021-02-24T14:22:00-05:00\", \"2021-02-24T14:23:00-05:00\", \"2021-02-24T14:24:00-05:00\", \"2021-02-24T14:25:00-05:00\", \"2021-02-24T14:26:00-05:00\", \"2021-02-24T14:28:00-05:00\", \"2021-02-24T14:30:00-05:00\", \"2021-02-24T14:31:00-05:00\", \"2021-02-24T14:32:00-05:00\", \"2021-02-24T14:33:00-05:00\", \"2021-02-24T14:34:00-05:00\", \"2021-02-24T14:35:00-05:00\", \"2021-02-24T14:36:00-05:00\", \"2021-02-24T14:37:00-05:00\", \"2021-02-24T14:38:00-05:00\", \"2021-02-24T14:39:00-05:00\", \"2021-02-24T14:40:00-05:00\", \"2021-02-24T14:41:00-05:00\", \"2021-02-24T14:42:00-05:00\", \"2021-02-24T14:43:00-05:00\", \"2021-02-24T14:44:00-05:00\", \"2021-02-24T14:45:00-05:00\", \"2021-02-24T14:46:00-05:00\", \"2021-02-24T14:47:00-05:00\", \"2021-02-24T14:48:00-05:00\", \"2021-02-24T14:49:00-05:00\", \"2021-02-24T14:50:00-05:00\", \"2021-02-24T14:51:00-05:00\", \"2021-02-24T14:52:00-05:00\", \"2021-02-24T14:53:00-05:00\", \"2021-02-24T14:54:00-05:00\", \"2021-02-24T14:55:00-05:00\", \"2021-02-24T14:56:00-05:00\", \"2021-02-24T14:58:00-05:00\", \"2021-02-24T14:59:00-05:00\", \"2021-02-24T15:00:00-05:00\", \"2021-02-24T15:01:00-05:00\", \"2021-02-24T15:02:00-05:00\", \"2021-02-24T15:03:00-05:00\", \"2021-02-24T15:04:00-05:00\", \"2021-02-24T15:05:00-05:00\", \"2021-02-24T15:06:00-05:00\", \"2021-02-24T15:07:00-05:00\", \"2021-02-24T15:08:00-05:00\", \"2021-02-24T15:09:00-05:00\", \"2021-02-24T15:10:00-05:00\", \"2021-02-24T15:11:00-05:00\", \"2021-02-24T15:12:00-05:00\", \"2021-02-24T15:13:00-05:00\", \"2021-02-24T15:14:00-05:00\", \"2021-02-24T15:15:00-05:00\", \"2021-02-24T15:16:00-05:00\", \"2021-02-24T15:17:00-05:00\", \"2021-02-24T15:18:00-05:00\", \"2021-02-24T15:19:00-05:00\", \"2021-02-24T15:20:00-05:00\", \"2021-02-24T15:21:00-05:00\", \"2021-02-24T15:22:00-05:00\", \"2021-02-24T15:23:00-05:00\", \"2021-02-24T15:24:00-05:00\", \"2021-02-24T15:25:00-05:00\", \"2021-02-24T15:26:00-05:00\", \"2021-02-24T15:27:00-05:00\", \"2021-02-24T15:28:00-05:00\", \"2021-02-24T15:29:00-05:00\", \"2021-02-24T15:30:00-05:00\", \"2021-02-24T15:31:00-05:00\", \"2021-02-24T15:32:00-05:00\", \"2021-02-24T15:33:00-05:00\", \"2021-02-24T15:34:00-05:00\", \"2021-02-24T15:35:00-05:00\", \"2021-02-24T15:36:00-05:00\", \"2021-02-24T15:37:00-05:00\", \"2021-02-24T15:38:00-05:00\", \"2021-02-24T15:39:00-05:00\", \"2021-02-24T15:40:00-05:00\", \"2021-02-24T15:41:00-05:00\", \"2021-02-24T15:42:00-05:00\", \"2021-02-24T15:43:00-05:00\", \"2021-02-24T15:44:00-05:00\", \"2021-02-24T15:45:00-05:00\", \"2021-02-24T15:46:00-05:00\", \"2021-02-24T15:47:00-05:00\", \"2021-02-24T15:48:00-05:00\", \"2021-02-24T15:49:00-05:00\", \"2021-02-24T15:50:00-05:00\", \"2021-02-24T15:51:00-05:00\", \"2021-02-24T15:52:00-05:00\", \"2021-02-24T15:53:00-05:00\", \"2021-02-24T15:54:00-05:00\", \"2021-02-24T15:55:00-05:00\", \"2021-02-24T15:56:00-05:00\", \"2021-02-24T15:57:00-05:00\", \"2021-02-24T15:58:00-05:00\", \"2021-02-24T15:59:00-05:00\"], \"xaxis\": \"x\", \"y\": [15.550000190734863, 15.609999656677246, 15.642499923706055, 15.600000381469727, 15.5, 15.390000343322754, 15.380000114440918, 15.204500198364258, 15.260000228881836, 15.359999656677246, 15.329999923706055, 15.270000457763672, 15.3149995803833, 15.3100004196167, 15.239999771118164, 15.34000015258789, 15.399999618530273, 15.375, 15.402199745178223, 15.430000305175781, 15.300000190734863, 15.380000114440918, 15.320099830627441, 15.34000015258789, 15.314200401306152, 15.252799987792969, 15.229999542236328, 15.206299781799316, 15.187000274658203, 15.300000190734863, 15.319999694824219, 15.13010025024414, 15.109999656677246, 15.069999694824219, 15.079999923706055, 15.199999809265137, 15.319999694824219, 15.1850004196167, 15.21500015258789, 15.260000228881836, 15.234999656677246, 15.199999809265137, 15.194999694824219, 15.28499984741211, 15.369999885559082, 15.387900352478027, 15.399999618530273, 15.460000038146973, 15.390000343322754, 15.369999885559082, 15.369999885559082, 15.390000343322754, 15.449999809265137, 15.489999771118164, 15.359999656677246, 15.34000015258789, 15.380000114440918, 15.350000381469727, 15.390000343322754, 15.390000343322754, 15.420000076293945, 15.380000114440918, 15.380000114440918, 15.449999809265137, 15.449999809265137, 15.430000305175781, 15.40999984741211, 15.420000076293945, 15.489999771118164, 15.449999809265137, 15.487299919128418, 15.430000305175781, 15.489700317382812, 15.630000114440918, 15.59000015258789, 15.680000305175781, 15.675000190734863, 15.664999961853027, 15.630000114440918, 15.670000076293945, 15.6899995803833, 15.719499588012695, 15.710000038146973, 15.6899995803833, 15.710000038146973, 15.729999542236328, 15.6899995803833, 15.699999809265137, 15.680000305175781, 15.789999961853027, 15.850000381469727, 15.770000457763672, 15.720000267028809, 15.670000076293945, 15.680000305175781, 15.710000038146973, 15.720000267028809, 15.725000381469727, 15.6899995803833, 15.699999809265137, 15.618300437927246, 15.699999809265137, 15.649999618530273, 15.649999618530273, 15.600000381469727, 15.569999694824219, 15.564900398254395, 15.614999771118164, 15.6899995803833, 15.649999618530273, 15.600000381469727, 15.59000015258789, 15.5600004196167, 15.539999961853027, 15.520000457763672, 15.529999732971191, 15.529999732971191, 15.649999618530273, 15.66919994354248, 15.645000457763672, 15.59000015258789, 15.646100044250488, 15.550000190734863, 15.520000457763672, 15.4399995803833, 15.420000076293945, 15.385000228881836, 15.430000305175781, 15.4350004196167, 15.470000267028809, 15.420000076293945, 15.459500312805176, 15.449999809265137, 15.430000305175781, 15.420000076293945, 15.369999885559082, 15.38070011138916, 15.390000343322754, 15.399999618530273, 15.442000389099121, 15.479900360107422, 15.439800262451172, 15.539999961853027, 15.479999542236328, 15.430000305175781, 15.460000038146973, 15.420000076293945, 15.472700119018555, 15.449999809265137, 15.40999984741211, 15.44480037689209, 15.40999984741211, 15.420000076293945, 15.40999984741211, 15.380000114440918, 15.369999885559082, 15.34000015258789, 15.359999656677246, 15.311800003051758, 15.3100004196167, 15.389900207519531, 15.40999984741211, 15.430000305175781, 15.359999656677246, 15.350099563598633, 15.380000114440918, 15.420000076293945, 15.469599723815918, 15.489999771118164, 15.430100440979004, 15.45479965209961, 15.4399995803833, 15.4399995803833, 15.484800338745117, 15.460000038146973, 15.449999809265137, 15.469499588012695, 15.430000305175781, 15.397500038146973, 15.421299934387207, 15.430000305175781, 15.369999885559082, 15.399999618530273, 15.438599586486816, 15.479999542236328, 15.489999771118164, 15.479999542236328, 15.449999809265137, 15.460000038146973, 15.40999984741211, 15.390000343322754, 15.460000038146973, 15.469499588012695, 15.4399995803833, 15.490900039672852, 15.475000381469727, 15.454400062561035, 15.426199913024902, 15.40999984741211, 15.407999992370605, 15.430000305175781, 15.489999771118164, 15.449999809265137, 15.5, 15.528800010681152, 15.520000457763672, 15.53499984741211, 15.567999839782715, 15.520000457763672, 15.539999961853027, 15.544099807739258, 15.520000457763672, 15.614999771118164, 15.5600004196167, 15.579999923706055, 15.574999809265137, 15.598999977111816, 15.626500129699707, 15.600000381469727, 15.674400329589844, 15.720000267028809, 15.740500450134277, 15.670000076293945, 15.6899995803833, 15.789999961853027, 15.850000381469727, 15.850000381469727, 15.850000381469727, 15.84630012512207, 15.8149995803833, 15.770000457763672, 15.781200408935547, 15.762200355529785, 15.800000190734863, 15.8149995803833, 15.84000015258789, 15.852100372314453, 15.858099937438965, 15.835000038146973, 15.8100004196167, 15.819999694824219, 15.8100004196167, 15.8100004196167, 15.8100004196167, 15.746500015258789, 15.770000457763672, 15.859999656677246, 15.789999961853027, 15.800000190734863, 15.829999923706055, 15.760000228881836, 15.8149995803833, 15.779999732971191, 15.765000343322754, 15.79990005493164, 15.770000457763672, 15.739999771118164, 15.734999656677246, 15.694999694824219, 15.692000389099121, 15.739999771118164, 15.770000457763672, 15.740599632263184, 15.71500015258789, 15.819899559020996, 15.760000228881836, 15.779999732971191, 15.739999771118164, 15.770000457763672, 15.770000457763672, 15.789899826049805, 15.740099906921387, 15.774999618530273, 15.739999771118164, 15.770000457763672, 15.800000190734863, 15.8100004196167, 15.819999694824219, 15.8100004196167, 15.819999694824219, 15.850000381469727, 15.845000267028809, 15.859999656677246, 15.863800048828125, 15.869999885559082, 15.837400436401367, 15.895000457763672, 15.911999702453613, 15.899999618530273, 15.899999618530273, 15.899999618530273, 15.859999656677246, 15.850000381469727, 15.835000038146973, 15.864999771118164, 15.890000343322754, 15.880000114440918, 15.840100288391113, 15.880000114440918, 15.890000343322754, 15.890000343322754, 15.866000175476074, 15.88129997253418, 15.920000076293945, 15.946999549865723, 15.925000190734863, 15.949999809265137, 15.899999618530273, 15.904999732971191, 15.920000076293945, 15.925000190734863, 15.920000076293945, 15.899999618530273, 15.885000228881836, 15.89009952545166, 15.899999618530273, 15.880000114440918, 15.920000076293945, 15.880000114440918, 15.885000228881836, 15.899999618530273, 15.920000076293945, 15.920000076293945, 15.90999984741211, 15.949999809265137, 15.914999961853027, 15.9399995803833, 15.899999618530273, 15.899999618530273, 15.920000076293945, 15.8100004196167, 15.819999694824219, 15.829999923706055, 15.800000190734863, 15.84000015258789, 15.850000381469727, 15.84000015258789, 15.829999923706055, 15.760000228881836, 15.739999771118164, 15.765000343322754, 15.765000343322754, 15.779999732971191, 15.779999732971191, 15.770000457763672, 15.729999542236328, 15.720000267028809, 15.6899995803833, 15.710000038146973, 15.6850004196167, 15.75, 15.725000381469727, 15.710000038146973, 15.734999656677246, 15.744999885559082, 15.744999885559082, 15.744999885559082, 15.734999656677246, 15.725000381469727, 15.72719955444336, 15.699999809265137, 15.680000305175781, 15.65999984741211, 15.680000305175781, 15.6899995803833], \"yaxis\": \"y\"}],                        {\"legend\": {\"tracegroupgap\": 0}, \"template\": {\"data\": {\"bar\": [{\"error_x\": {\"color\": \"#2a3f5f\"}, \"error_y\": {\"color\": \"#2a3f5f\"}, \"marker\": {\"line\": {\"color\": \"#E5ECF6\", \"width\": 0.5}}, \"type\": \"bar\"}], \"barpolar\": [{\"marker\": {\"line\": {\"color\": \"#E5ECF6\", \"width\": 0.5}}, \"type\": \"barpolar\"}], \"carpet\": [{\"aaxis\": {\"endlinecolor\": \"#2a3f5f\", \"gridcolor\": \"white\", \"linecolor\": \"white\", \"minorgridcolor\": \"white\", \"startlinecolor\": \"#2a3f5f\"}, \"baxis\": {\"endlinecolor\": \"#2a3f5f\", \"gridcolor\": \"white\", \"linecolor\": \"white\", \"minorgridcolor\": \"white\", \"startlinecolor\": \"#2a3f5f\"}, \"type\": \"carpet\"}], \"choropleth\": [{\"colorbar\": {\"outlinewidth\": 0, \"ticks\": \"\"}, \"type\": \"choropleth\"}], \"contour\": [{\"colorbar\": {\"outlinewidth\": 0, \"ticks\": \"\"}, \"colorscale\": [[0.0, \"#0d0887\"], [0.1111111111111111, \"#46039f\"], [0.2222222222222222, \"#7201a8\"], [0.3333333333333333, \"#9c179e\"], [0.4444444444444444, \"#bd3786\"], [0.5555555555555556, \"#d8576b\"], [0.6666666666666666, \"#ed7953\"], [0.7777777777777778, \"#fb9f3a\"], [0.8888888888888888, \"#fdca26\"], [1.0, \"#f0f921\"]], \"type\": \"contour\"}], \"contourcarpet\": [{\"colorbar\": {\"outlinewidth\": 0, \"ticks\": \"\"}, \"type\": \"contourcarpet\"}], \"heatmap\": [{\"colorbar\": {\"outlinewidth\": 0, \"ticks\": \"\"}, \"colorscale\": [[0.0, \"#0d0887\"], [0.1111111111111111, \"#46039f\"], [0.2222222222222222, \"#7201a8\"], [0.3333333333333333, \"#9c179e\"], [0.4444444444444444, \"#bd3786\"], [0.5555555555555556, \"#d8576b\"], [0.6666666666666666, \"#ed7953\"], [0.7777777777777778, \"#fb9f3a\"], [0.8888888888888888, \"#fdca26\"], [1.0, \"#f0f921\"]], \"type\": \"heatmap\"}], \"heatmapgl\": [{\"colorbar\": {\"outlinewidth\": 0, \"ticks\": \"\"}, \"colorscale\": [[0.0, \"#0d0887\"], [0.1111111111111111, \"#46039f\"], [0.2222222222222222, \"#7201a8\"], [0.3333333333333333, \"#9c179e\"], [0.4444444444444444, \"#bd3786\"], [0.5555555555555556, \"#d8576b\"], [0.6666666666666666, \"#ed7953\"], [0.7777777777777778, \"#fb9f3a\"], [0.8888888888888888, \"#fdca26\"], [1.0, \"#f0f921\"]], \"type\": \"heatmapgl\"}], \"histogram\": [{\"marker\": {\"colorbar\": {\"outlinewidth\": 0, \"ticks\": \"\"}}, \"type\": \"histogram\"}], \"histogram2d\": [{\"colorbar\": {\"outlinewidth\": 0, \"ticks\": \"\"}, \"colorscale\": [[0.0, \"#0d0887\"], [0.1111111111111111, \"#46039f\"], [0.2222222222222222, \"#7201a8\"], [0.3333333333333333, \"#9c179e\"], [0.4444444444444444, \"#bd3786\"], [0.5555555555555556, \"#d8576b\"], [0.6666666666666666, \"#ed7953\"], [0.7777777777777778, \"#fb9f3a\"], [0.8888888888888888, \"#fdca26\"], [1.0, \"#f0f921\"]], \"type\": \"histogram2d\"}], \"histogram2dcontour\": [{\"colorbar\": {\"outlinewidth\": 0, \"ticks\": \"\"}, \"colorscale\": [[0.0, \"#0d0887\"], [0.1111111111111111, \"#46039f\"], [0.2222222222222222, \"#7201a8\"], [0.3333333333333333, \"#9c179e\"], [0.4444444444444444, \"#bd3786\"], [0.5555555555555556, \"#d8576b\"], [0.6666666666666666, \"#ed7953\"], [0.7777777777777778, \"#fb9f3a\"], [0.8888888888888888, \"#fdca26\"], [1.0, \"#f0f921\"]], \"type\": \"histogram2dcontour\"}], \"mesh3d\": [{\"colorbar\": {\"outlinewidth\": 0, \"ticks\": \"\"}, \"type\": \"mesh3d\"}], \"parcoords\": [{\"line\": {\"colorbar\": {\"outlinewidth\": 0, \"ticks\": \"\"}}, \"type\": \"parcoords\"}], \"pie\": [{\"automargin\": true, \"type\": \"pie\"}], \"scatter\": [{\"marker\": {\"colorbar\": {\"outlinewidth\": 0, \"ticks\": \"\"}}, \"type\": \"scatter\"}], \"scatter3d\": [{\"line\": {\"colorbar\": {\"outlinewidth\": 0, \"ticks\": \"\"}}, \"marker\": {\"colorbar\": {\"outlinewidth\": 0, \"ticks\": \"\"}}, \"type\": \"scatter3d\"}], \"scattercarpet\": [{\"marker\": {\"colorbar\": {\"outlinewidth\": 0, \"ticks\": \"\"}}, \"type\": \"scattercarpet\"}], \"scattergeo\": [{\"marker\": {\"colorbar\": {\"outlinewidth\": 0, \"ticks\": \"\"}}, \"type\": \"scattergeo\"}], \"scattergl\": [{\"marker\": {\"colorbar\": {\"outlinewidth\": 0, \"ticks\": \"\"}}, \"type\": \"scattergl\"}], \"scattermapbox\": [{\"marker\": {\"colorbar\": {\"outlinewidth\": 0, \"ticks\": \"\"}}, \"type\": \"scattermapbox\"}], \"scatterpolar\": [{\"marker\": {\"colorbar\": {\"outlinewidth\": 0, \"ticks\": \"\"}}, \"type\": \"scatterpolar\"}], \"scatterpolargl\": [{\"marker\": {\"colorbar\": {\"outlinewidth\": 0, \"ticks\": \"\"}}, \"type\": \"scatterpolargl\"}], \"scatterternary\": [{\"marker\": {\"colorbar\": {\"outlinewidth\": 0, \"ticks\": \"\"}}, \"type\": \"scatterternary\"}], \"surface\": [{\"colorbar\": {\"outlinewidth\": 0, \"ticks\": \"\"}, \"colorscale\": [[0.0, \"#0d0887\"], [0.1111111111111111, \"#46039f\"], [0.2222222222222222, \"#7201a8\"], [0.3333333333333333, \"#9c179e\"], [0.4444444444444444, \"#bd3786\"], [0.5555555555555556, \"#d8576b\"], [0.6666666666666666, \"#ed7953\"], [0.7777777777777778, \"#fb9f3a\"], [0.8888888888888888, \"#fdca26\"], [1.0, \"#f0f921\"]], \"type\": \"surface\"}], \"table\": [{\"cells\": {\"fill\": {\"color\": \"#EBF0F8\"}, \"line\": {\"color\": \"white\"}}, \"header\": {\"fill\": {\"color\": \"#C8D4E3\"}, \"line\": {\"color\": \"white\"}}, \"type\": \"table\"}]}, \"layout\": {\"annotationdefaults\": {\"arrowcolor\": \"#2a3f5f\", \"arrowhead\": 0, \"arrowwidth\": 1}, \"autotypenumbers\": \"strict\", \"coloraxis\": {\"colorbar\": {\"outlinewidth\": 0, \"ticks\": \"\"}}, \"colorscale\": {\"diverging\": [[0, \"#8e0152\"], [0.1, \"#c51b7d\"], [0.2, \"#de77ae\"], [0.3, \"#f1b6da\"], [0.4, \"#fde0ef\"], [0.5, \"#f7f7f7\"], [0.6, \"#e6f5d0\"], [0.7, \"#b8e186\"], [0.8, \"#7fbc41\"], [0.9, \"#4d9221\"], [1, \"#276419\"]], \"sequential\": [[0.0, \"#0d0887\"], [0.1111111111111111, \"#46039f\"], [0.2222222222222222, \"#7201a8\"], [0.3333333333333333, \"#9c179e\"], [0.4444444444444444, \"#bd3786\"], [0.5555555555555556, \"#d8576b\"], [0.6666666666666666, \"#ed7953\"], [0.7777777777777778, \"#fb9f3a\"], [0.8888888888888888, \"#fdca26\"], [1.0, \"#f0f921\"]], \"sequentialminus\": [[0.0, \"#0d0887\"], [0.1111111111111111, \"#46039f\"], [0.2222222222222222, \"#7201a8\"], [0.3333333333333333, \"#9c179e\"], [0.4444444444444444, \"#bd3786\"], [0.5555555555555556, \"#d8576b\"], [0.6666666666666666, \"#ed7953\"], [0.7777777777777778, \"#fb9f3a\"], [0.8888888888888888, \"#fdca26\"], [1.0, \"#f0f921\"]]}, \"colorway\": [\"#636efa\", \"#EF553B\", \"#00cc96\", \"#ab63fa\", \"#FFA15A\", \"#19d3f3\", \"#FF6692\", \"#B6E880\", \"#FF97FF\", \"#FECB52\"], \"font\": {\"color\": \"#2a3f5f\"}, \"geo\": {\"bgcolor\": \"white\", \"lakecolor\": \"white\", \"landcolor\": \"#E5ECF6\", \"showlakes\": true, \"showland\": true, \"subunitcolor\": \"white\"}, \"hoverlabel\": {\"align\": \"left\"}, \"hovermode\": \"closest\", \"mapbox\": {\"style\": \"light\"}, \"paper_bgcolor\": \"white\", \"plot_bgcolor\": \"#E5ECF6\", \"polar\": {\"angularaxis\": {\"gridcolor\": \"white\", \"linecolor\": \"white\", \"ticks\": \"\"}, \"bgcolor\": \"#E5ECF6\", \"radialaxis\": {\"gridcolor\": \"white\", \"linecolor\": \"white\", \"ticks\": \"\"}}, \"scene\": {\"xaxis\": {\"backgroundcolor\": \"#E5ECF6\", \"gridcolor\": \"white\", \"gridwidth\": 2, \"linecolor\": \"white\", \"showbackground\": true, \"ticks\": \"\", \"zerolinecolor\": \"white\"}, \"yaxis\": {\"backgroundcolor\": \"#E5ECF6\", \"gridcolor\": \"white\", \"gridwidth\": 2, \"linecolor\": \"white\", \"showbackground\": true, \"ticks\": \"\", \"zerolinecolor\": \"white\"}, \"zaxis\": {\"backgroundcolor\": \"#E5ECF6\", \"gridcolor\": \"white\", \"gridwidth\": 2, \"linecolor\": \"white\", \"showbackground\": true, \"ticks\": \"\", \"zerolinecolor\": \"white\"}}, \"shapedefaults\": {\"line\": {\"color\": \"#2a3f5f\"}}, \"ternary\": {\"aaxis\": {\"gridcolor\": \"white\", \"linecolor\": \"white\", \"ticks\": \"\"}, \"baxis\": {\"gridcolor\": \"white\", \"linecolor\": \"white\", \"ticks\": \"\"}, \"bgcolor\": \"#E5ECF6\", \"caxis\": {\"gridcolor\": \"white\", \"linecolor\": \"white\", \"ticks\": \"\"}}, \"title\": {\"x\": 0.05}, \"xaxis\": {\"automargin\": true, \"gridcolor\": \"white\", \"linecolor\": \"white\", \"ticks\": \"\", \"title\": {\"standoff\": 15}, \"zerolinecolor\": \"white\", \"zerolinewidth\": 2}, \"yaxis\": {\"automargin\": true, \"gridcolor\": \"white\", \"linecolor\": \"white\", \"ticks\": \"\", \"title\": {\"standoff\": 15}, \"zerolinecolor\": \"white\", \"zerolinewidth\": 2}}}, \"title\": {\"text\": \"TCS Share Price Over time\"}, \"xaxis\": {\"anchor\": \"y\", \"domain\": [0.0, 1.0], \"title\": {\"text\": \"Datetime\"}}, \"yaxis\": {\"anchor\": \"x\", \"domain\": [0.0, 1.0], \"title\": {\"text\": \"Close\"}}},                        {\"responsive\": true}                    ).then(function(){\n",
       "                            \n",
       "var gd = document.getElementById('7f190d1a-5d13-4e01-9c8d-e076ccf19926');\n",
       "var x = new MutationObserver(function (mutations, observer) {{\n",
       "        var display = window.getComputedStyle(gd).display;\n",
       "        if (!display || display === 'none') {{\n",
       "            console.log([gd, 'removed!']);\n",
       "            Plotly.purge(gd);\n",
       "            observer.disconnect();\n",
       "        }}\n",
       "}});\n",
       "\n",
       "// Listen for the removal of the full notebook cells\n",
       "var notebookContainer = gd.closest('#notebook-container');\n",
       "if (notebookContainer) {{\n",
       "    x.observe(notebookContainer, {childList: true});\n",
       "}}\n",
       "\n",
       "// Listen for the clearing of the current output cell\n",
       "var outputEl = gd.closest('.output');\n",
       "if (outputEl) {{\n",
       "    x.observe(outputEl, {childList: true});\n",
       "}}\n",
       "\n",
       "                        })                };                });            </script>        </div>"
      ]
     },
     "metadata": {},
     "output_type": "display_data"
    }
   ],
   "source": [
    "fig = px.line(tcs_df,y='Close',title='TCS Share Price Over time')\n",
    "fig.show()"
   ]
  },
  {
   "cell_type": "code",
   "execution_count": null,
   "id": "frequent-parking",
   "metadata": {},
   "outputs": [],
   "source": []
  }
 ],
 "metadata": {
  "kernelspec": {
   "display_name": "Python 3",
   "language": "python",
   "name": "python3"
  },
  "language_info": {
   "codemirror_mode": {
    "name": "ipython",
    "version": 3
   },
   "file_extension": ".py",
   "mimetype": "text/x-python",
   "name": "python",
   "nbconvert_exporter": "python",
   "pygments_lexer": "ipython3",
   "version": "3.8.5"
  }
 },
 "nbformat": 4,
 "nbformat_minor": 5
}
